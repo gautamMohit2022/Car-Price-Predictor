{
 "cells": [
  {
   "cell_type": "code",
   "execution_count": null,
   "id": "ec751cd3-9731-4e2d-bfec-8c17627cc293",
   "metadata": {},
   "outputs": [
    {
     "name": "stdout",
     "output_type": "stream",
     "text": [
      " * Serving Flask app '__main__'\n",
      " * Debug mode: on\n"
     ]
    },
    {
     "name": "stderr",
     "output_type": "stream",
     "text": [
      "WARNING: This is a development server. Do not use it in a production deployment. Use a production WSGI server instead.\n",
      " * Running on http://127.0.0.1:8080\n",
      "Press CTRL+C to quit\n",
      "127.0.0.1 - - [29/Apr/2025 00:46:18] \"GET / HTTP/1.1\" 200 -\n",
      "127.0.0.1 - - [29/Apr/2025 00:46:30] \"POST /predict HTTP/1.1\" 200 -\n",
      "127.0.0.1 - - [29/Apr/2025 00:46:36] \"POST /predict HTTP/1.1\" 200 -\n",
      "127.0.0.1 - - [29/Apr/2025 00:46:39] \"POST /predict HTTP/1.1\" 200 -\n",
      "127.0.0.1 - - [29/Apr/2025 00:46:50] \"POST /predict HTTP/1.1\" 200 -\n",
      "127.0.0.1 - - [29/Apr/2025 00:46:58] \"POST /predict HTTP/1.1\" 200 -\n",
      "127.0.0.1 - - [29/Apr/2025 00:47:08] \"POST /predict HTTP/1.1\" 200 -\n",
      "127.0.0.1 - - [29/Apr/2025 00:47:45] \"POST /predict HTTP/1.1\" 200 -\n",
      "127.0.0.1 - - [29/Apr/2025 00:47:45] \"POST /predict HTTP/1.1\" 200 -\n",
      "127.0.0.1 - - [29/Apr/2025 00:47:46] \"POST /predict HTTP/1.1\" 200 -\n",
      "127.0.0.1 - - [29/Apr/2025 00:47:46] \"POST /predict HTTP/1.1\" 200 -\n",
      "127.0.0.1 - - [29/Apr/2025 00:47:46] \"POST /predict HTTP/1.1\" 200 -\n",
      "127.0.0.1 - - [29/Apr/2025 00:47:46] \"POST /predict HTTP/1.1\" 200 -\n"
     ]
    }
   ],
   "source": [
    "from flask import Flask, render_template, request, jsonify\n",
    "from flask_cors import CORS\n",
    "import pickle\n",
    "import pandas as pd\n",
    "import numpy as np\n",
    "from threading import Thread\n",
    "\n",
    "app = Flask(__name__)\n",
    "CORS(app)\n",
    "\n",
    "# Load model and data\n",
    "try:\n",
    "    model = pickle.load(open('LinearRegressionModel.pkl', 'rb'))\n",
    "    car = pd.read_csv('Cleaned_Car_data.csv')\n",
    "except Exception as e:\n",
    "    print(\"Error loading model or data:\", e)\n",
    "    exit()\n",
    "\n",
    "@app.route('/')\n",
    "def index():\n",
    "    companies = sorted(car['company'].unique())\n",
    "    years = sorted(car['year'].unique(), reverse=True)\n",
    "    fuel_types = sorted(car['fuel_type'].unique())\n",
    "\n",
    "    # Build mapping: company -> list of models\n",
    "    company_models_map = {}\n",
    "    for company in companies:\n",
    "        models = sorted(car[car['company'] == company]['name'].unique())\n",
    "        company_models_map[company] = models\n",
    "\n",
    "    return render_template(\n",
    "        'HTML CODE.html',\n",
    "        companies=companies,\n",
    "        years=years,\n",
    "        fuel_types=fuel_types,\n",
    "        company_models_map=company_models_map\n",
    "    )\n",
    "\n",
    "@app.route('/predict', methods=['POST'])\n",
    "def predict():\n",
    "    data = request.get_json()\n",
    "    company = data.get('company')\n",
    "    car_model = data.get('car_model')\n",
    "    year = int(data.get('year'))\n",
    "    fuel_type = data.get('fuel_type')\n",
    "    kms_driven = int(data.get('kms_driven'))\n",
    "\n",
    "    df = pd.DataFrame(columns=['name', 'company', 'year', 'kms_driven', 'fuel_type'],\n",
    "                      data=np.array([car_model, company, year, kms_driven, fuel_type]).reshape(1, 5))\n",
    "\n",
    "    try:\n",
    "        prediction = model.predict(df)\n",
    "        return jsonify({'prediction': round(prediction[0], 2)})\n",
    "    except Exception as e:\n",
    "        return jsonify({'error': str(e)})\n",
    "\n",
    "# Function to run Flask in a thread (if needed)\n",
    "def run_app():\n",
    "    app.run(debug=True, use_reloader=False, port=8080)\n",
    "\n",
    "if __name__ == \"__main__\":\n",
    "    run_app()\n"
   ]
  },
  {
   "cell_type": "code",
   "execution_count": null,
   "id": "81f1018d-92dc-4c6b-9dee-d8e68b02422c",
   "metadata": {},
   "outputs": [],
   "source": []
  },
  {
   "cell_type": "code",
   "execution_count": null,
   "id": "b0a2e1e1-d096-44b7-9789-615176a4dc90",
   "metadata": {},
   "outputs": [],
   "source": []
  }
 ],
 "metadata": {
  "kernelspec": {
   "display_name": "Python 3 (ipykernel)",
   "language": "python",
   "name": "python3"
  },
  "language_info": {
   "codemirror_mode": {
    "name": "ipython",
    "version": 3
   },
   "file_extension": ".py",
   "mimetype": "text/x-python",
   "name": "python",
   "nbconvert_exporter": "python",
   "pygments_lexer": "ipython3",
   "version": "3.12.7"
  }
 },
 "nbformat": 4,
 "nbformat_minor": 5
}
